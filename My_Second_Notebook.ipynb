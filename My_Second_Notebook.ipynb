{
  "nbformat": 4,
  "nbformat_minor": 0,
  "metadata": {
    "colab": {
      "name": "My Second Notebook.ipynb",
      "provenance": [],
      "authorship_tag": "ABX9TyObb4kVJabWNIUgKUn1HZbv",
      "include_colab_link": true
    },
    "kernelspec": {
      "name": "python3",
      "display_name": "Python 3"
    },
    "language_info": {
      "name": "python"
    }
  },
  "cells": [
    {
      "cell_type": "markdown",
      "metadata": {
        "id": "view-in-github",
        "colab_type": "text"
      },
      "source": [
        "<a href=\"https://colab.research.google.com/github/AllergicAlligator/Test/blob/main/My_Second_Notebook.ipynb\" target=\"_parent\"><img src=\"https://colab.research.google.com/assets/colab-badge.svg\" alt=\"Open In Colab\"/></a>"
      ]
    },
    {
      "cell_type": "markdown",
      "source": [
        "# Naming Variables"
      ],
      "metadata": {
        "id": "DCCwSMbp81qK"
      }
    },
    {
      "cell_type": "code",
      "execution_count": 1,
      "metadata": {
        "id": "-_7Jd77_40cc"
      },
      "outputs": [],
      "source": [
        "x = 1"
      ]
    },
    {
      "cell_type": "markdown",
      "source": [
        "Python 的 \"=\" 是 assignment operator 的意思"
      ],
      "metadata": {
        "id": "vHMmOVx_9MUD"
      }
    },
    {
      "cell_type": "code",
      "source": [
        "id(x)"
      ],
      "metadata": {
        "colab": {
          "base_uri": "https://localhost:8080/"
        },
        "id": "DJUcft4242JJ",
        "outputId": "4b67724b-38ab-448b-9f9e-c1210e231646"
      },
      "execution_count": 3,
      "outputs": [
        {
          "output_type": "execute_result",
          "data": {
            "text/plain": [
              "94270738209280"
            ]
          },
          "metadata": {},
          "execution_count": 3
        }
      ]
    },
    {
      "cell_type": "markdown",
      "source": [
        "id 是記憶體的位置"
      ],
      "metadata": {
        "id": "b3ob6Fv-9gOs"
      }
    },
    {
      "cell_type": "code",
      "source": [
        "id?"
      ],
      "metadata": {
        "id": "wjYu30g-4_Mp"
      },
      "execution_count": 4,
      "outputs": []
    },
    {
      "cell_type": "code",
      "source": [
        "X_ = 10"
      ],
      "metadata": {
        "id": "dHP1QuGx5HI6"
      },
      "execution_count": 5,
      "outputs": []
    },
    {
      "cell_type": "code",
      "source": [
        "_x = 10"
      ],
      "metadata": {
        "id": "-1Zr5H0O59mg"
      },
      "execution_count": 6,
      "outputs": []
    },
    {
      "cell_type": "code",
      "source": [
        "-x = 10"
      ],
      "metadata": {
        "colab": {
          "base_uri": "https://localhost:8080/",
          "height": 131
        },
        "id": "Kgx6cJzo6Fec",
        "outputId": "7732dc5f-d7c8-48f4-b87c-02097c97e4ae"
      },
      "execution_count": 7,
      "outputs": [
        {
          "output_type": "error",
          "ename": "SyntaxError",
          "evalue": "ignored",
          "traceback": [
            "\u001b[0;36m  File \u001b[0;32m\"<ipython-input-7-3ea843e5af08>\"\u001b[0;36m, line \u001b[0;32m1\u001b[0m\n\u001b[0;31m    -x = 10\u001b[0m\n\u001b[0m           ^\u001b[0m\n\u001b[0;31mSyntaxError\u001b[0m\u001b[0;31m:\u001b[0m can't assign to operator\n"
          ]
        }
      ]
    },
    {
      "cell_type": "code",
      "source": [
        "abc3 = 10"
      ],
      "metadata": {
        "id": "bw4R4GYC6MEh"
      },
      "execution_count": 8,
      "outputs": []
    },
    {
      "cell_type": "code",
      "source": [
        "3abc = 10"
      ],
      "metadata": {
        "colab": {
          "base_uri": "https://localhost:8080/",
          "height": 131
        },
        "id": "9ZYNwzOs6RUG",
        "outputId": "972564c3-d25f-4081-f6cc-b9b2bd232a90"
      },
      "execution_count": 9,
      "outputs": [
        {
          "output_type": "error",
          "ename": "SyntaxError",
          "evalue": "ignored",
          "traceback": [
            "\u001b[0;36m  File \u001b[0;32m\"<ipython-input-9-1f63d612ff48>\"\u001b[0;36m, line \u001b[0;32m1\u001b[0m\n\u001b[0;31m    3abc = 10\u001b[0m\n\u001b[0m       ^\u001b[0m\n\u001b[0;31mSyntaxError\u001b[0m\u001b[0;31m:\u001b[0m invalid syntax\n"
          ]
        }
      ]
    },
    {
      "cell_type": "code",
      "source": [
        "x = 1"
      ],
      "metadata": {
        "id": "EM4mCGPq6W1N"
      },
      "execution_count": 10,
      "outputs": []
    },
    {
      "cell_type": "markdown",
      "source": [
        "# Data Types"
      ],
      "metadata": {
        "id": "Wv7mReMX8oC9"
      }
    },
    {
      "cell_type": "code",
      "source": [
        "type(x)"
      ],
      "metadata": {
        "colab": {
          "base_uri": "https://localhost:8080/"
        },
        "id": "X0UQepDp6lEc",
        "outputId": "bdaee2d6-ab0f-484d-bdaa-a5cf3b1bdb42"
      },
      "execution_count": 11,
      "outputs": [
        {
          "output_type": "execute_result",
          "data": {
            "text/plain": [
              "int"
            ]
          },
          "metadata": {},
          "execution_count": 11
        }
      ]
    },
    {
      "cell_type": "markdown",
      "source": [
        "Int 是 integer"
      ],
      "metadata": {
        "id": "GbwPFaVF9nNg"
      }
    },
    {
      "cell_type": "code",
      "source": [
        "y = 3.14"
      ],
      "metadata": {
        "id": "SMzFD7vS6mkp"
      },
      "execution_count": 12,
      "outputs": []
    },
    {
      "cell_type": "code",
      "source": [
        "type(y)"
      ],
      "metadata": {
        "colab": {
          "base_uri": "https://localhost:8080/"
        },
        "id": "1Yb-j64T6q6-",
        "outputId": "b4390914-2d52-435f-f1fd-580e382368e2"
      },
      "execution_count": 13,
      "outputs": [
        {
          "output_type": "execute_result",
          "data": {
            "text/plain": [
              "float"
            ]
          },
          "metadata": {},
          "execution_count": 13
        }
      ]
    },
    {
      "cell_type": "markdown",
      "source": [
        "float 是有小數點的數子"
      ],
      "metadata": {
        "id": "r0PMcf959uYk"
      }
    },
    {
      "cell_type": "code",
      "source": [
        "3 > 2"
      ],
      "metadata": {
        "colab": {
          "base_uri": "https://localhost:8080/"
        },
        "id": "RQghfW7c6rqg",
        "outputId": "70983c62-e882-4364-e3e5-cf209e469f49"
      },
      "execution_count": 14,
      "outputs": [
        {
          "output_type": "execute_result",
          "data": {
            "text/plain": [
              "True"
            ]
          },
          "metadata": {},
          "execution_count": 14
        }
      ]
    },
    {
      "cell_type": "code",
      "source": [
        "x = 3 > 2"
      ],
      "metadata": {
        "id": "GFpqj7JT6yrn"
      },
      "execution_count": 15,
      "outputs": []
    },
    {
      "cell_type": "code",
      "source": [
        "type(x)"
      ],
      "metadata": {
        "colab": {
          "base_uri": "https://localhost:8080/"
        },
        "id": "vEk-lktn65s0",
        "outputId": "1364fa5e-98bc-42d4-9714-70cb7637acd0"
      },
      "execution_count": 16,
      "outputs": [
        {
          "output_type": "execute_result",
          "data": {
            "text/plain": [
              "bool"
            ]
          },
          "metadata": {},
          "execution_count": 16
        }
      ]
    },
    {
      "cell_type": "markdown",
      "source": [
        "bool 只有 true or false 的結果"
      ],
      "metadata": {
        "id": "4tioWGK495tf"
      }
    },
    {
      "cell_type": "code",
      "source": [
        "x = \"dog\""
      ],
      "metadata": {
        "id": "zqYU9kyt66rc"
      },
      "execution_count": 18,
      "outputs": []
    },
    {
      "cell_type": "code",
      "source": [
        "type(x)"
      ],
      "metadata": {
        "colab": {
          "base_uri": "https://localhost:8080/"
        },
        "id": "ZkrkrrNl7T9O",
        "outputId": "a8e61ddf-361b-424d-f331-58d23ad2521d"
      },
      "execution_count": 19,
      "outputs": [
        {
          "output_type": "execute_result",
          "data": {
            "text/plain": [
              "str"
            ]
          },
          "metadata": {},
          "execution_count": 19
        }
      ]
    },
    {
      "cell_type": "markdown",
      "source": [
        "Str 是 String，也就是 message 的意思"
      ],
      "metadata": {
        "id": "gC2RkjqR-Bfo"
      }
    },
    {
      "cell_type": "code",
      "source": [
        "x = 3, 2"
      ],
      "metadata": {
        "id": "GSSWytbw7e-r"
      },
      "execution_count": 20,
      "outputs": []
    },
    {
      "cell_type": "code",
      "source": [
        "type(x)"
      ],
      "metadata": {
        "colab": {
          "base_uri": "https://localhost:8080/"
        },
        "id": "3pjvIXlk71MJ",
        "outputId": "87b9ef08-f244-4f9b-eb46-12bb23bfc566"
      },
      "execution_count": 21,
      "outputs": [
        {
          "output_type": "execute_result",
          "data": {
            "text/plain": [
              "tuple"
            ]
          },
          "metadata": {},
          "execution_count": 21
        }
      ]
    },
    {
      "cell_type": "markdown",
      "source": [
        "tuple 是一的變數裡面放不只一個東西的 data type"
      ],
      "metadata": {
        "id": "w-akmdug-Ogo"
      }
    },
    {
      "cell_type": "code",
      "source": [
        ""
      ],
      "metadata": {
        "id": "lisbfaS078oO"
      },
      "execution_count": null,
      "outputs": []
    }
  ]
}