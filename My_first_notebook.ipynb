{
  "nbformat": 4,
  "nbformat_minor": 0,
  "metadata": {
    "colab": {
      "name": "My first notebook.ipynb",
      "provenance": [],
      "collapsed_sections": [],
      "authorship_tag": "ABX9TyPIRDiSdWiMSdTtT0b4aptr",
      "include_colab_link": true
    },
    "kernelspec": {
      "name": "python3",
      "display_name": "Python 3"
    },
    "language_info": {
      "name": "python"
    }
  },
  "cells": [
    {
      "cell_type": "markdown",
      "metadata": {
        "id": "view-in-github",
        "colab_type": "text"
      },
      "source": [
        "<a href=\"https://colab.research.google.com/github/AllergicAlligator/Test/blob/main/My_first_notebook.ipynb\" target=\"_parent\"><img src=\"https://colab.research.google.com/assets/colab-badge.svg\" alt=\"Open In Colab\"/></a>"
      ]
    },
    {
      "cell_type": "markdown",
      "source": [
        "# My first notebook"
      ],
      "metadata": {
        "id": "BTVfgDE8aNFA"
      }
    },
    {
      "cell_type": "code",
      "execution_count": 1,
      "metadata": {
        "colab": {
          "base_uri": "https://localhost:8080/"
        },
        "id": "iUbTfC-aX2aa",
        "outputId": "67c7f1b3-04ba-4035-b8f9-ded711645529"
      },
      "outputs": [
        {
          "output_type": "stream",
          "name": "stdout",
          "text": [
            "Hello World!\n"
          ]
        }
      ],
      "source": [
        "print(\"Hello World!\")"
      ]
    },
    {
      "cell_type": "markdown",
      "source": [
        "# Testing Math Equation"
      ],
      "metadata": {
        "id": "iy62ArvGaZFN"
      }
    },
    {
      "cell_type": "markdown",
      "source": [
        "Using LaTex syntax:\n",
        "\n",
        "$ E = mc^2 $"
      ],
      "metadata": {
        "id": "P_OUZyDUamV3"
      }
    },
    {
      "cell_type": "markdown",
      "source": [
        "$$ E = mc^2 $$"
      ],
      "metadata": {
        "id": "jvNBBYuoazop"
      }
    },
    {
      "cell_type": "markdown",
      "source": [
        "$$ x^n + y^n = z^n $$"
      ],
      "metadata": {
        "id": "Gzrtna2ObQLM"
      }
    },
    {
      "cell_type": "markdown",
      "source": [
        "# Testing Python Code"
      ],
      "metadata": {
        "id": "jwPGRTCtbXko"
      }
    },
    {
      "cell_type": "code",
      "source": [
        "'*' * 10"
      ],
      "metadata": {
        "colab": {
          "base_uri": "https://localhost:8080/",
          "height": 35
        },
        "id": "7IaypyaLac1V",
        "outputId": "fc7670fc-3fce-420c-d675-adc2a37c1526"
      },
      "execution_count": 2,
      "outputs": [
        {
          "output_type": "execute_result",
          "data": {
            "text/plain": [
              "'**********'"
            ],
            "application/vnd.google.colaboratory.intrinsic+json": {
              "type": "string"
            }
          },
          "metadata": {},
          "execution_count": 2
        }
      ]
    },
    {
      "cell_type": "code",
      "source": [
        "for n in range(5):\n",
        "  print(n)"
      ],
      "metadata": {
        "colab": {
          "base_uri": "https://localhost:8080/"
        },
        "id": "20TYrWIZbnG-",
        "outputId": "ad67e6a0-f577-4223-eea9-d449ef414f3d"
      },
      "execution_count": 3,
      "outputs": [
        {
          "output_type": "stream",
          "name": "stdout",
          "text": [
            "0\n",
            "1\n",
            "2\n",
            "3\n",
            "4\n"
          ]
        }
      ]
    },
    {
      "cell_type": "code",
      "source": [
        "for n in range(5):\n",
        "  print(n*'*')"
      ],
      "metadata": {
        "colab": {
          "base_uri": "https://localhost:8080/"
        },
        "id": "a299ViQ0bv1O",
        "outputId": "18a7c078-8b25-4c6a-ca1a-e909d60bc1a0"
      },
      "execution_count": 4,
      "outputs": [
        {
          "output_type": "stream",
          "name": "stdout",
          "text": [
            "\n",
            "*\n",
            "**\n",
            "***\n",
            "****\n"
          ]
        }
      ]
    },
    {
      "cell_type": "code",
      "source": [
        ""
      ],
      "metadata": {
        "id": "mTyu1I7gb4nG"
      },
      "execution_count": null,
      "outputs": []
    }
  ]
}