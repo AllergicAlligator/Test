{
  "nbformat": 4,
  "nbformat_minor": 0,
  "metadata": {
    "colab": {
      "name": "My First Notebook.ipynb",
      "provenance": [],
      "collapsed_sections": [],
      "authorship_tag": "ABX9TyNKcIVA4WCPFf366YNUCkjb",
      "include_colab_link": true
    },
    "kernelspec": {
      "name": "python3",
      "display_name": "Python 3"
    },
    "language_info": {
      "name": "python"
    }
  },
  "cells": [
    {
      "cell_type": "markdown",
      "metadata": {
        "id": "view-in-github",
        "colab_type": "text"
      },
      "source": [
        "<a href=\"https://colab.research.google.com/github/AllergicAlligator/Test/blob/main/My_First_Notebook.ipynb\" target=\"_parent\"><img src=\"https://colab.research.google.com/assets/colab-badge.svg\" alt=\"Open In Colab\"/></a>"
      ]
    },
    {
      "cell_type": "markdown",
      "source": [
        "#My First Notebook#"
      ],
      "metadata": {
        "id": "BTVfgDE8aNFA"
      }
    },
    {
      "cell_type": "code",
      "execution_count": null,
      "metadata": {
        "colab": {
          "base_uri": "https://localhost:8080/"
        },
        "id": "iUbTfC-aX2aa",
        "outputId": "67c7f1b3-04ba-4035-b8f9-ded711645529"
      },
      "outputs": [
        {
          "output_type": "stream",
          "name": "stdout",
          "text": [
            "Hello World!\n"
          ]
        }
      ],
      "source": [
        "print(\"Hello World!\")"
      ]
    },
    {
      "cell_type": "markdown",
      "source": [
        "# Testing Math Equation"
      ],
      "metadata": {
        "id": "iy62ArvGaZFN"
      }
    },
    {
      "cell_type": "markdown",
      "source": [
        "Using LaTex syntax:\n",
        "\n",
        "$ E = mc^2 $"
      ],
      "metadata": {
        "id": "P_OUZyDUamV3"
      }
    },
    {
      "cell_type": "markdown",
      "source": [
        "$$ E = mc^2 $$"
      ],
      "metadata": {
        "id": "jvNBBYuoazop"
      }
    },
    {
      "cell_type": "markdown",
      "source": [
        "$$ x^n + y^n = z^n $$"
      ],
      "metadata": {
        "id": "Gzrtna2ObQLM"
      }
    },
    {
      "cell_type": "markdown",
      "source": [
        "# Testing Python Code"
      ],
      "metadata": {
        "id": "jwPGRTCtbXko"
      }
    },
    {
      "cell_type": "code",
      "source": [
        "'*' * 10"
      ],
      "metadata": {
        "colab": {
          "base_uri": "https://localhost:8080/",
          "height": 35
        },
        "id": "7IaypyaLac1V",
        "outputId": "fc7670fc-3fce-420c-d675-adc2a37c1526"
      },
      "execution_count": null,
      "outputs": [
        {
          "output_type": "execute_result",
          "data": {
            "text/plain": [
              "'**********'"
            ],
            "application/vnd.google.colaboratory.intrinsic+json": {
              "type": "string"
            }
          },
          "metadata": {},
          "execution_count": 2
        }
      ]
    },
    {
      "cell_type": "code",
      "source": [
        "' '*5+'*'*5"
      ],
      "metadata": {
        "colab": {
          "base_uri": "https://localhost:8080/",
          "height": 35
        },
        "id": "hnIGKU-3eCic",
        "outputId": "abf01468-2b09-4690-8639-1a1b9c2ce03f"
      },
      "execution_count": null,
      "outputs": [
        {
          "output_type": "execute_result",
          "data": {
            "text/plain": [
              "'     *****'"
            ],
            "application/vnd.google.colaboratory.intrinsic+json": {
              "type": "string"
            }
          },
          "metadata": {},
          "execution_count": 12
        }
      ]
    },
    {
      "cell_type": "code",
      "source": [
        "for n in range(5):\n",
        "  print(n)"
      ],
      "metadata": {
        "colab": {
          "base_uri": "https://localhost:8080/"
        },
        "id": "20TYrWIZbnG-",
        "outputId": "ad67e6a0-f577-4223-eea9-d449ef414f3d"
      },
      "execution_count": null,
      "outputs": [
        {
          "output_type": "stream",
          "name": "stdout",
          "text": [
            "0\n",
            "1\n",
            "2\n",
            "3\n",
            "4\n"
          ]
        }
      ]
    },
    {
      "cell_type": "code",
      "source": [
        "for n in range(5):\n",
        "  print(n*'*')"
      ],
      "metadata": {
        "colab": {
          "base_uri": "https://localhost:8080/"
        },
        "id": "a299ViQ0bv1O",
        "outputId": "18a7c078-8b25-4c6a-ca1a-e909d60bc1a0"
      },
      "execution_count": null,
      "outputs": [
        {
          "output_type": "stream",
          "name": "stdout",
          "text": [
            "\n",
            "*\n",
            "**\n",
            "***\n",
            "****\n"
          ]
        }
      ]
    },
    {
      "cell_type": "markdown",
      "source": [
        "如何把數字從大排到小？？"
      ],
      "metadata": {
        "id": "UbM2bct-ip35"
      }
    },
    {
      "cell_type": "code",
      "source": [
        "for n in range(5):\n",
        "  print(-(n-5))"
      ],
      "metadata": {
        "colab": {
          "base_uri": "https://localhost:8080/"
        },
        "id": "8_IQrFK6fNR-",
        "outputId": "3e1619f6-465e-4661-b1fb-aa2ddacda06c"
      },
      "execution_count": null,
      "outputs": [
        {
          "output_type": "stream",
          "name": "stdout",
          "text": [
            "5\n",
            "4\n",
            "3\n",
            "2\n",
            "1\n"
          ]
        }
      ]
    },
    {
      "cell_type": "markdown",
      "source": [
        "⬆️  +負號"
      ],
      "metadata": {
        "id": "dkQPZF6oi97N"
      }
    },
    {
      "cell_type": "markdown",
      "source": [
        "以下是Pyrimid"
      ],
      "metadata": {
        "id": "i8WGxstWjfKi"
      }
    },
    {
      "cell_type": "code",
      "source": [
        "for n in range(5):\n",
        "  print((5-n)*' '+(2*n+1)*'*')"
      ],
      "metadata": {
        "colab": {
          "base_uri": "https://localhost:8080/"
        },
        "id": "mTyu1I7gb4nG",
        "outputId": "5447b64f-7cb6-497e-8004-a77e649100df"
      },
      "execution_count": null,
      "outputs": [
        {
          "output_type": "stream",
          "name": "stdout",
          "text": [
            "     *\n",
            "    ***\n",
            "   *****\n",
            "  *******\n",
            " *********\n"
          ]
        }
      ]
    },
    {
      "cell_type": "code",
      "source": [
        "for n in range(5):\n",
        "  print((5-n)*' '+(2*n+1)*'🍕')"
      ],
      "metadata": {
        "colab": {
          "base_uri": "https://localhost:8080/"
        },
        "id": "XHkk727zhIXG",
        "outputId": "334c1297-9288-4d8c-a038-9b2d2a6532fd"
      },
      "execution_count": null,
      "outputs": [
        {
          "output_type": "stream",
          "name": "stdout",
          "text": [
            "     🍕\n",
            "    🍕🍕🍕\n",
            "   🍕🍕🍕🍕🍕\n",
            "  🍕🍕🍕🍕🍕🍕🍕\n",
            " 🍕🍕🍕🍕🍕🍕🍕🍕🍕\n"
          ]
        }
      ]
    }
  ]
}