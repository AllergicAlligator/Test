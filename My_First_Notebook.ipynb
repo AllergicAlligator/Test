{
  "nbformat": 4,
  "nbformat_minor": 0,
  "metadata": {
    "colab": {
      "name": "My First Notebook.ipynb",
      "provenance": [],
      "collapsed_sections": [],
      "authorship_tag": "ABX9TyNbwtAkDRzWSd6X78O6Dumw",
      "include_colab_link": true
    },
    "kernelspec": {
      "name": "python3",
      "display_name": "Python 3"
    },
    "language_info": {
      "name": "python"
    }
  },
  "cells": [
    {
      "cell_type": "markdown",
      "metadata": {
        "id": "view-in-github",
        "colab_type": "text"
      },
      "source": [
        "<a href=\"https://colab.research.google.com/github/AllergicAlligator/Test/blob/main/My_First_Notebook.ipynb\" target=\"_parent\"><img src=\"https://colab.research.google.com/assets/colab-badge.svg\" alt=\"Open In Colab\"/></a>"
      ]
    },
    {
      "cell_type": "markdown",
      "source": [
        "#My First Notebook#"
      ],
      "metadata": {
        "id": "BTVfgDE8aNFA"
      }
    },
    {
      "cell_type": "code",
      "execution_count": null,
      "metadata": {
        "colab": {
          "base_uri": "https://localhost:8080/"
        },
        "id": "iUbTfC-aX2aa",
        "outputId": "67c7f1b3-04ba-4035-b8f9-ded711645529"
      },
      "outputs": [
        {
          "output_type": "stream",
          "name": "stdout",
          "text": [
            "Hello World!\n"
          ]
        }
      ],
      "source": [
        "print(\"Hello World!\")"
      ]
    },
    {
      "cell_type": "markdown",
      "source": [
        "# Testing Math Equation"
      ],
      "metadata": {
        "id": "iy62ArvGaZFN"
      }
    },
    {
      "cell_type": "markdown",
      "source": [
        "Using LaTex syntax:\n",
        "\n",
        "$ E = mc^2 $"
      ],
      "metadata": {
        "id": "P_OUZyDUamV3"
      }
    },
    {
      "cell_type": "markdown",
      "source": [
        "$$ E = mc^2 $$"
      ],
      "metadata": {
        "id": "jvNBBYuoazop"
      }
    },
    {
      "cell_type": "markdown",
      "source": [
        "$$ x^n + y^n = z^n $$"
      ],
      "metadata": {
        "id": "Gzrtna2ObQLM"
      }
    },
    {
      "cell_type": "markdown",
      "source": [
        "# Testing Python Code"
      ],
      "metadata": {
        "id": "jwPGRTCtbXko"
      }
    },
    {
      "cell_type": "code",
      "source": [
        "'*' * 10"
      ],
      "metadata": {
        "colab": {
          "base_uri": "https://localhost:8080/",
          "height": 35
        },
        "id": "7IaypyaLac1V",
        "outputId": "fc7670fc-3fce-420c-d675-adc2a37c1526"
      },
      "execution_count": null,
      "outputs": [
        {
          "output_type": "execute_result",
          "data": {
            "text/plain": [
              "'**********'"
            ],
            "application/vnd.google.colaboratory.intrinsic+json": {
              "type": "string"
            }
          },
          "metadata": {},
          "execution_count": 2
        }
      ]
    },
    {
      "cell_type": "code",
      "source": [
        "' '*5+'*'*5"
      ],
      "metadata": {
        "colab": {
          "base_uri": "https://localhost:8080/",
          "height": 35
        },
        "id": "hnIGKU-3eCic",
        "outputId": "abf01468-2b09-4690-8639-1a1b9c2ce03f"
      },
      "execution_count": null,
      "outputs": [
        {
          "output_type": "execute_result",
          "data": {
            "text/plain": [
              "'     *****'"
            ],
            "application/vnd.google.colaboratory.intrinsic+json": {
              "type": "string"
            }
          },
          "metadata": {},
          "execution_count": 12
        }
      ]
    },
    {
      "cell_type": "code",
      "source": [
        "for n in range(5):\n",
        "  print(n)"
      ],
      "metadata": {
        "colab": {
          "base_uri": "https://localhost:8080/"
        },
        "id": "20TYrWIZbnG-",
        "outputId": "ad67e6a0-f577-4223-eea9-d449ef414f3d"
      },
      "execution_count": null,
      "outputs": [
        {
          "output_type": "stream",
          "name": "stdout",
          "text": [
            "0\n",
            "1\n",
            "2\n",
            "3\n",
            "4\n"
          ]
        }
      ]
    },
    {
      "cell_type": "code",
      "source": [
        "for n in range(5):\n",
        "  print(n*'*')"
      ],
      "metadata": {
        "colab": {
          "base_uri": "https://localhost:8080/"
        },
        "id": "a299ViQ0bv1O",
        "outputId": "18a7c078-8b25-4c6a-ca1a-e909d60bc1a0"
      },
      "execution_count": null,
      "outputs": [
        {
          "output_type": "stream",
          "name": "stdout",
          "text": [
            "\n",
            "*\n",
            "**\n",
            "***\n",
            "****\n"
          ]
        }
      ]
    },
    {
      "cell_type": "markdown",
      "source": [
        "如何把數字從大排到小？？"
      ],
      "metadata": {
        "id": "UbM2bct-ip35"
      }
    },
    {
      "cell_type": "code",
      "source": [
        "for n in range(5):\n",
        "  print(-(n-5))"
      ],
      "metadata": {
        "colab": {
          "base_uri": "https://localhost:8080/"
        },
        "id": "8_IQrFK6fNR-",
        "outputId": "3e1619f6-465e-4661-b1fb-aa2ddacda06c"
      },
      "execution_count": null,
      "outputs": [
        {
          "output_type": "stream",
          "name": "stdout",
          "text": [
            "5\n",
            "4\n",
            "3\n",
            "2\n",
            "1\n"
          ]
        }
      ]
    },
    {
      "cell_type": "markdown",
      "source": [
        "⬆️  +負號"
      ],
      "metadata": {
        "id": "dkQPZF6oi97N"
      }
    },
    {
      "cell_type": "markdown",
      "source": [
        "以下是Pyrimid"
      ],
      "metadata": {
        "id": "i8WGxstWjfKi"
      }
    },
    {
      "cell_type": "code",
      "source": [
        "for n in range(5):\n",
        "  print((5-n)*' '+(2*n+1)*'*')"
      ],
      "metadata": {
        "colab": {
          "base_uri": "https://localhost:8080/"
        },
        "id": "mTyu1I7gb4nG",
        "outputId": "5447b64f-7cb6-497e-8004-a77e649100df"
      },
      "execution_count": null,
      "outputs": [
        {
          "output_type": "stream",
          "name": "stdout",
          "text": [
            "     *\n",
            "    ***\n",
            "   *****\n",
            "  *******\n",
            " *********\n"
          ]
        }
      ]
    },
    {
      "cell_type": "code",
      "source": [
        "for n in range(5):\n",
        "  print((5-n)*' '+(2*n+1)*'🍕')"
      ],
      "metadata": {
        "colab": {
          "base_uri": "https://localhost:8080/"
        },
        "id": "XHkk727zhIXG",
        "outputId": "334c1297-9288-4d8c-a038-9b2d2a6532fd"
      },
      "execution_count": null,
      "outputs": [
        {
          "output_type": "stream",
          "name": "stdout",
          "text": [
            "     🍕\n",
            "    🍕🍕🍕\n",
            "   🍕🍕🍕🍕🍕\n",
            "  🍕🍕🍕🍕🍕🍕🍕\n",
            " 🍕🍕🍕🍕🍕🍕🍕🍕🍕\n"
          ]
        }
      ]
    },
    {
      "cell_type": "markdown",
      "source": [
        "#  Testing Functions"
      ],
      "metadata": {
        "id": "Pm7-Dn2s154S"
      }
    },
    {
      "cell_type": "code",
      "source": [
        "def foo():\n",
        "  print(\"Hello Tiffany\")"
      ],
      "metadata": {
        "id": "2P6YLFIf19aC"
      },
      "execution_count": 1,
      "outputs": []
    },
    {
      "cell_type": "code",
      "source": [
        "foo()"
      ],
      "metadata": {
        "colab": {
          "base_uri": "https://localhost:8080/"
        },
        "id": "8cOu4xuG2MEm",
        "outputId": "ea1e9ad3-3dce-41b8-be9d-1c2f85e362ff"
      },
      "execution_count": 6,
      "outputs": [
        {
          "output_type": "stream",
          "name": "stdout",
          "text": [
            "Hello Tiffany\n"
          ]
        }
      ]
    },
    {
      "cell_type": "code",
      "source": [
        "def bar(name):\n",
        "  print(\"Hello\", name)"
      ],
      "metadata": {
        "id": "nwFkdpYk2X0G"
      },
      "execution_count": 3,
      "outputs": []
    },
    {
      "cell_type": "code",
      "source": [
        "bar(\"People\")"
      ],
      "metadata": {
        "colab": {
          "base_uri": "https://localhost:8080/"
        },
        "id": "I9hP--NA2x_-",
        "outputId": "9cc651e3-442e-4b8d-c413-d0f80e2482d9"
      },
      "execution_count": 5,
      "outputs": [
        {
          "output_type": "stream",
          "name": "stdout",
          "text": [
            "Hello People\n"
          ]
        }
      ]
    },
    {
      "cell_type": "markdown",
      "source": [
        "通常大家都用foo或bar"
      ],
      "metadata": {
        "id": "Zn9vrexm6Vzc"
      }
    },
    {
      "cell_type": "code",
      "source": [
        "def square1(x):\n",
        "  print(x**2)"
      ],
      "metadata": {
        "id": "ONkpRpgj4Jud"
      },
      "execution_count": 9,
      "outputs": []
    },
    {
      "cell_type": "code",
      "source": [
        "def square2(x):\n",
        "  return x**2"
      ],
      "metadata": {
        "id": "eQM6_nGK3AR9"
      },
      "execution_count": 10,
      "outputs": []
    },
    {
      "cell_type": "markdown",
      "source": [
        "在Python程式，** 是代表次方"
      ],
      "metadata": {
        "id": "omWkTK516mBN"
      }
    },
    {
      "cell_type": "code",
      "source": [
        "square1(2)"
      ],
      "metadata": {
        "colab": {
          "base_uri": "https://localhost:8080/"
        },
        "id": "LUNvep1z4E_T",
        "outputId": "e1f054b5-64bf-48f7-b57b-d940d28bc8e9"
      },
      "execution_count": 11,
      "outputs": [
        {
          "output_type": "stream",
          "name": "stdout",
          "text": [
            "4\n"
          ]
        }
      ]
    },
    {
      "cell_type": "code",
      "source": [
        "square2(2)"
      ],
      "metadata": {
        "colab": {
          "base_uri": "https://localhost:8080/"
        },
        "id": "R2mX8GU_4PwZ",
        "outputId": "cf988118-f22c-4445-c6dc-f7f2b07fa8c9"
      },
      "execution_count": 12,
      "outputs": [
        {
          "output_type": "execute_result",
          "data": {
            "text/plain": [
              "4"
            ]
          },
          "metadata": {},
          "execution_count": 12
        }
      ]
    },
    {
      "cell_type": "code",
      "source": [
        "y1 = square1(2)\n",
        "y2 = square2(2)"
      ],
      "metadata": {
        "colab": {
          "base_uri": "https://localhost:8080/"
        },
        "id": "5EKpKGg34RPX",
        "outputId": "807fb9de-203e-46d9-9606-7ab95f6022b4"
      },
      "execution_count": 13,
      "outputs": [
        {
          "output_type": "stream",
          "name": "stdout",
          "text": [
            "4\n"
          ]
        }
      ]
    },
    {
      "cell_type": "markdown",
      "source": [
        "雖然 square1 和 square2 看起來一樣，卻只有 square2 會回傳信號\n",
        "\n",
        "![Screen Shot 2022-03-21 at 10.47.09 PM.png](data:image/png;base64,iVBORw0KGgoAAAANSUhEUgAAASYAAABECAYAAAAsj5g/AAAMbWlDQ1BJQ0MgUHJvZmlsZQAASImVVwdYU8kWnluSkJCEEkBASuhNEKkBpITQAkgvgo2QBBJKjAlBxV4WFVy7iIANXRVRbCsgduzKotj7YkFFWRd1saHyJiSg677yvfN9c++fM2f+U+5M7j0AaH3gSaV5qDYA+ZICWUJ4MHN0WjqT9BQggA5IgAE0eXy5lB0XFw2gDNz/Lu9uQGsoV52VXP+c/6+iKxDK+QAgYyHOFMj5+RAfBwCv4ktlBQAQlXqryQVSJZ4NsZ4MBgjxKiXOVuHtSpypwof7bZISOBBfBkCDyuPJsgGg34N6ZiE/G/LQP0PsKhGIJQBoDYM4gC/iCSBWxj4sP3+iEpdDbA/tpRDDeAAr8zvO7L/xZw7y83jZg1iVV79ohIjl0jze1P+zNP9b8vMUAz5s4aCKZBEJyvxhDW/lToxSYirEXZLMmFhlrSH+IBao6g4AShEpIpJV9qgJX86B9QMGELsKeCFREJtAHCbJi4lW6zOzxGFciOFuQaeIC7hJEBtCvFAoD01U22yUTUxQ+0Lrs2Qctlp/jifr96v09UCRm8xW878RCblqfoxeJEpKhZgCsXWhOCUGYjrELvLcxCi1zcgiESdmwEamSFDGbw1xglASHqzixwqzZGEJavuSfPlAvthGkZgbo8b7CkRJEar6YKf4vP74YS7YZaGEnTzAI5SPjh7IRSAMCVXljj0XSpIT1TwfpAXBCaq1OEWaF6e2xy2FeeFKvSXEHvLCRPVaPKUAbk4VP54lLYhLUsWJF+XwIuNU8eDLQDTggBDABAo4MsFEkAPErV0NXfCXaiYM8IAMZAMhcFZrBlak9s9I4DURFIE/IBIC+eC64P5ZISiE+i+DWtXVGWT1zxb2r8gFTyHOB1EgD/5W9K+SDHpLAU+gRvwP7zw4+DDePDiU8/9eP6D9pmFDTbRaoxjwyNQasCSGEkOIEcQwogNujAfgfng0vAbB4YazcJ+BPL7ZE54S2giPCNcJ7YTbE8RzZT9EOQq0Q/4wdS0yv68Fbgs5PfFg3B+yQ2bcADcGzrgH9MPGA6FnT6jlqONWVoX5A/ffMvjuaajtyK5klDyEHES2/3El3ZHuOciirPX39VHFmjlYb87gzI/+Od9VXwDvUT9aYgux/dhZ7AR2HjuMNQAmdgxrxFqwI0o8uLue9O+uAW8J/fHkQh7xP/zx1D6VlZS71rp2un5WzRUIpxQoDx5nonSqTJwtKmCy4dtByORK+C7DmG6ubm4AKN81qr+vt/H97xDEoOWbbt7vAPgf6+vrO/RNF3kMgL3e8Pgf/KazZwGgownAuYN8haxQpcOVFwL8l9CCJ80ImAErYA/zcQNewA8EgVAQCWJBEkgD42GVRXCfy8BkMB3MAcWgFCwDq0EF2AA2g+1gF9gHGsBhcAKcARfBZXAd3IW7pwO8BN3gHehFEISE0BAGYoSYIzaIE+KGsJAAJBSJRhKQNCQDyUYkiAKZjsxDSpEVSAWyCalB9iIHkRPIeaQNuY08RDqRN8gnFEOpqB5qitqiw1EWykaj0CR0HJqNTkKL0PnoErQcrUZ3ovXoCfQieh1tR1+iPRjANDEDzAJzxlgYB4vF0rEsTIbNxEqwMqwaq8Oa4HO+irVjXdhHnIgzcCbuDHdwBJ6M8/FJ+Ex8MV6Bb8fr8VP4Vfwh3o1/JdAIJgQngi+BSxhNyCZMJhQTyghbCQcIp+FZ6iC8IxKJBkQ7ojc8i2nEHOI04mLiOuJu4nFiG/ExsYdEIhmRnEj+pFgSj1RAKiatJe0kHSNdIXWQPmhoaphruGmEaaRrSDTmapRp7NA4qnFF45lGL1mbbEP2JceSBeSp5KXkLeQm8iVyB7mXokOxo/hTkig5lDmUckod5TTlHuWtpqampaaPZrymWHO2ZrnmHs1zmg81P1J1qY5UDnUsVUFdQt1GPU69TX1Lo9FsaUG0dFoBbQmthnaS9oD2gc6gu9C5dAF9Fr2SXk+/Qn+lRday0WJrjdcq0irT2q91SatLm6xtq83R5mnP1K7UPqh9U7tHh6EzQidWJ19nsc4OnfM6z3VJura6oboC3fm6m3VP6j5mYAwrBofBZ8xjbGGcZnToEfXs9Lh6OXqlerv0WvW69XX1PfRT9KfoV+of0W83wAxsDbgGeQZLDfYZ3DD4NMR0CHuIcMiiIXVDrgx5bzjUMMhQaFhiuNvwuuEnI6ZRqFGu0XKjBqP7xrixo3G88WTj9canjbuG6g31G8ofWjJ039A7JqiJo0mCyTSTzSYtJj2mZqbhplLTtaYnTbvMDMyCzHLMVpkdNes0Z5gHmIvNV5kfM3/B1GeymXnMcuYpZreFiUWEhcJik0WrRa+lnWWy5VzL3Zb3rShWLKssq1VWzVbd1ubWo6ynW9da37Eh27BsRDZrbM7avLe1s021XWDbYPvcztCOa1dkV2t3z55mH2g/yb7a/poD0YHlkOuwzuGyI+ro6ShyrHS85IQ6eTmJndY5tQ0jDPMZJhlWPeymM9WZ7VzoXOv80MXAJdplrkuDy6vh1sPThy8ffnb4V1dP1zzXLa53R+iOiBwxd0TTiDdujm58t0q3a+409zD3We6N7q89nDyEHus9bnkyPEd5LvBs9vzi5e0l86rz6vS29s7wrvK+ydJjxbEWs875EHyCfWb5HPb56OvlW+C7z/dPP2e/XL8dfs9H2o0Ujtwy8rG/pT/Pf5N/ewAzICNgY0B7oEUgL7A68FGQVZAgaGvQM7YDO4e9k/0q2DVYFnwg+D3HlzODczwECwkPKQlpDdUNTQ6tCH0QZhmWHVYb1h3uGT4t/HgEISIqYnnETa4pl8+t4XZHekfOiDwVRY1KjKqIehTtGC2LbhqFjooctXLUvRibGElMQyyI5caujL0fZxc3Ke5QPDE+Lr4y/mnCiITpCWcTGYkTEnckvksKTlqadDfZPlmR3JyilTI2pSblfWpI6orU9tHDR88YfTHNOE2c1phOSk9J35reMyZ0zOoxHWM9xxaPvTHObtyUcefHG4/PG39kgtYE3oT9GYSM1IwdGZ95sbxqXk8mN7Mqs5vP4a/hvxQECVYJOoX+whXCZ1n+WSuynmf7Z6/M7hQFispEXWKOuEL8OiciZ0PO+9zY3G25fXmpebvzNfIz8g9KdCW5klMTzSZOmdgmdZIWS9sn+U5aPalbFiXbKkfk4+SNBXrwo75FYa/4SfGwMKCwsvDD5JTJ+6foTJFMaZnqOHXR1GdFYUW/TMOn8ac1T7eYPmf6wxnsGZtmIjMzZzbPspo1f1bH7PDZ2+dQ5uTO+W2u69wVc/+alzqvab7p/NnzH/8U/lNtMb1YVnxzgd+CDQvxheKFrYvcF61d9LVEUHKh1LW0rPTzYv7iCz+P+Ln8574lWUtal3otXb+MuEyy7MbywOXbV+isKFrxeOWolfWrmKtKVv21esLq82UeZRvWUNYo1rSXR5c3rrVeu2zt5wpRxfXK4MrdVSZVi6rerxOsu7I+aH3dBtMNpRs+bRRvvLUpfFN9tW112Wbi5sLNT7ekbDn7C+uXmq3GW0u3ftkm2da+PWH7qRrvmpodJjuW1qK1itrOnWN3Xt4Vsquxzrlu026D3aV7wB7Fnhd7M/be2Be1r3k/a3/drza/Vh1gHCipR+qn1nc3iBraG9Ma2w5GHmxu8ms6cMjl0LbDFocrj+gfWXqUcnT+0b5jRcd6jkuPd53IPvG4eULz3ZOjT147FX+q9XTU6XNnws6cPMs+e+yc/7nD533PH7zAutBw0etifYtny4HfPH870OrVWn/J+1LjZZ/LTW0j245eCbxy4mrI1TPXuNcuXo+53nYj+catm2Nvtt8S3Hp+O+/26zuFd3rvzr5HuFdyX/t+2QOTB9W/O/y+u92r/cjDkIctjxIf3X3Mf/zyifzJ5475T2lPy56ZP6t57vb8cGdY5+UXY150vJS+7O0q/kPnj6pX9q9+/TPoz5bu0d0dr2Wv+94sfmv0dttfHn8198T1PHiX/673fckHow/bP7I+nv2U+ulZ7+TPpM/lXxy+NH2N+nqvL7+vT8qT8fo/BTA40KwsAN5sA4CWBgAD9m2UMapesF8QVf/aj8B/wqp+sV+8AKiD3+/xXfDr5iYAe7bA9gvya8FeNY4GQJIPQN3dB4da5FnubiouKuxTCA/6+t7Cno20EoAvy/r6eqv7+r5shsHC3vG4RNWDKoUIe4aN3C+Z+Zng34iqP/0uxx/vQBmBB/jx/i8N/ZCdOffsjQAAAIplWElmTU0AKgAAAAgABAEaAAUAAAABAAAAPgEbAAUAAAABAAAARgEoAAMAAAABAAIAAIdpAAQAAAABAAAATgAAAAAAAACQAAAAAQAAAJAAAAABAAOShgAHAAAAEgAAAHigAgAEAAAAAQAAASagAwAEAAAAAQAAAEQAAAAAQVNDSUkAAABTY3JlZW5zaG90HqtGYQAAAAlwSFlzAAAWJQAAFiUBSVIk8AAAAdVpVFh0WE1MOmNvbS5hZG9iZS54bXAAAAAAADx4OnhtcG1ldGEgeG1sbnM6eD0iYWRvYmU6bnM6bWV0YS8iIHg6eG1wdGs9IlhNUCBDb3JlIDYuMC4wIj4KICAgPHJkZjpSREYgeG1sbnM6cmRmPSJodHRwOi8vd3d3LnczLm9yZy8xOTk5LzAyLzIyLXJkZi1zeW50YXgtbnMjIj4KICAgICAgPHJkZjpEZXNjcmlwdGlvbiByZGY6YWJvdXQ9IiIKICAgICAgICAgICAgeG1sbnM6ZXhpZj0iaHR0cDovL25zLmFkb2JlLmNvbS9leGlmLzEuMC8iPgogICAgICAgICA8ZXhpZjpQaXhlbFlEaW1lbnNpb24+Njg8L2V4aWY6UGl4ZWxZRGltZW5zaW9uPgogICAgICAgICA8ZXhpZjpQaXhlbFhEaW1lbnNpb24+Mjk0PC9leGlmOlBpeGVsWERpbWVuc2lvbj4KICAgICAgICAgPGV4aWY6VXNlckNvbW1lbnQ+U2NyZWVuc2hvdDwvZXhpZjpVc2VyQ29tbWVudD4KICAgICAgPC9yZGY6RGVzY3JpcHRpb24+CiAgIDwvcmRmOlJERj4KPC94OnhtcG1ldGE+CmsnH1EAAAAcaURPVAAAAAIAAAAAAAAAIgAAACgAAAAiAAAAIgAAC5olumD4AAALZklEQVR4AexdZYwUwRKuw4MGCfIHl+DB3T1I0OAugeCSEAIkaLAgwZ3gHtzdNQQJFjwQgrvbvPqK153Zvd3j9t7tvc1tdbK7Pd09PbNf9XxdVTNTHeFwIk2KgCKgCIQQAhFKTCEkDT0VRUAREASUmHQgKAKKQMghoMQUciLRE1IEFAElJh0DioAiEHIIKDGFnEj0hBQBReCfxISbdi9evKBEiRJR+vTpPRB7/fo1/f79mzJmzOhRrhvBQ+Dt27f048cPvwdIly4dJU6c2G+9VgQPga9fv9LDhw8pR44clCxZMnugBQsW0N27d2ns2LEe5baBZiIh8E9i+vjxIxUtWlR23LFjBxUsWNB2Ur58eXr27Bndv3/flmkmuAi0adOGzp496/cgq1evpnLlyvmt14rYR+D69es0e/Zs2rdvn+28efPmQkRJkyalDh060MmTJ+nKlSuUKlUq20Yz/hEIiJgKFSpEW7ZsoYQJE0qPSkz+gQ1WzcGDB0WDRf+rVq2iW7duUb9+/azWWr16dcqcOXOwDq/9eiEA7bVevXr04MED6tu3L2XLlo22b99Ox48fF0IaNWqUEpMXZtHZDIiY0KEBGnlvYvr27Rtt3ryZrl27RtmzZydcJHnz5kVT2rRpkwgPZXv27BFzpEGDBpQnTx5as2YNPX36lGrVqkWVKlWyxPflyxc6cOAAnTlzRszIJk2aUO7cuaU//SLq06cP7d69m/bv329xmTVrFn3//p0GDBgg5jc02pUrV4p5gYvm6NGjVLFiRblw3r9/T1WqVKE6depYOBVzC0W0MpcvX6amTZtSiRIlaOPGjbIPcAXGcH0Ab6MxYSI5fPgwJU+enBo3bkw5c+a0x4AMz58/TwkSJKCaNWtKf1AALly4EJ4ywwOWUaUPHz44bDM7bB44JUuWlDyTiOyCMtQh/fr1y2nYsKFsM/nIL+pu3Lgh9V26dLFlrHnZPPpwb69YsULa//z50+nUqZO0c9ffvHlT6vXLcXr37i343Llzx8LRv39/KTt9+rSUAU/IYfHixfJBHh83pqwFS1vF3MIY7cznz58FT2DKZrSDbe/Uvn1728aN+7t376TpuHHjpB7Xl6k31wHkFo4yI28QvbcNMYF0WNMRkHr06CHN3MTETj8H5MO2ttTxTCJtR4wYIduGmFj7ke0JEyZIPYSGCwL7QwDsQ5F61rxke/To0UJ6rBrL9sCBA6Vev3wT06FDhwQndrQKROaiePz4sSWmadOmSR3IC5gbeSrmMRtVrO0IjsASxDJ+/HgZz6Y3IwPWnqQI+KMt+2wdvnnk9OrVy8GEgsmdHejSB2uyzp8/f8JWZgERE1Dt1q2bgMqOPtGiALBJrMI6rKo6kyZNsrO5IRpDTG/evJHmaId9+Y6F2V00MswaSCA01ENgU6dOdaZMmSLbtWvXtu3DPeNLY2IzTgY2cMSMDAzZEStQmdkXF5JJwBNt2FeimBtQYvD76tUrZ86cOdaqAKanTp2SngwxYZJHMpPszJkzZRsyu3jxojN37lwZ70ZrAlGFq8wCJqYnT57IQDZmHQSAxHfvLFGx70PICXUxJSZjxmHmYOei/XTs2FGOp1++NSbgYkh94sSJIiv2MQlcvgZ569atpc3Lly+t6ayYR390YaK9d++e8+nTJ9kJZMK+JMEU4xbJm5j4Dp3UG2Lq2bOnbKMdJmFzbfkjpnCQWcDEBKCXLFkiQIJ4DDGtW7dO8jNmzEATBwL7X4gJpgj2X79+vfSHL3bkirprC8I840tjAiTnzp0T7Ix8nj9/LkgZYmKHuWxj4KONuYAUc4EloK8NGzYIhnA5mOT2O8FUi4qY+Pkm2d9otegD8oBc3MQUbjKLETEBMOPoBoBIcHIjD9Ng+fLlYj64B70/U27+/PmyP74wU+CDBCc39odaC9MQJh/y0AI0/UXAHzFBPmbWxUVhkiEm+AbdMoKZjKSYG6Si/wvSN6YX3A4LFy60RDRs2DDpKCpi4jvZsj/6WLRokTNkyBAZ9xj7/DCtNeXCTWYxIiagzY8EWACNGKEtGSFBGCaPC8X4prx9TBCkSW5iQtmRI0eseQhBwbyDyaHpLwIwmYELZl3vBDJHHd/CtlWGmGA6wFxDPWZqfrLftlHMLRTRzuDGgpl4gSkmZ+Bv7rrB/YByuDuQvE053FQyd7IhFzPpX7p0yRJTuMnsn8QUben8tyFICE7w2EwQMByEmqKPgPFbYNY1yRATnN8wMaKSk2JuUIv+L8a+G+/o7/m3pZm03fuFq8xinZjcoGo+7hG4evWq3P7HDM0Pw3qcgHuQe1ToRsgiEK4yU2IK2SEZsxODkxQm9KBBg+ydItMTnlOCmWEevjTl+hu6CISrzCIgEvtcvGYUAUVAEQgBBJSYQkAIegqKgCLgiUAkYuL3rjxb6JYioAgoAnGAAF7oNykSMSFCgCZFQBFQBOIaAXdwPSWmuEZfj6cIKAI+EQgKMfGb0MTvC1Hq1Kl9HlQLYw8BhDROkiRJpGiIwJ+f94oUAjn2jvy3J8QbwnH8pQwZMkhcIX/1Wq4I+EIgVomJX+olhNzld4aoUaNGxGFJfB1Ty2IRgVKlSlHKlClp586dlCJFCtszv1oigeP46W1bFowMh0mRULH++kZwNI0D7w8dLfeHQKwRE2Icg4gQrZLjKVH37t2VmPyhHovlICZ+UZTatm1Lw4cPtz3HFTFhQQSjMfEL3bR161aZnMyJgJQQiVGTIhAIAgER07JlywiqOb+/I8fAgJw3bx5VrlxZTAls8wN9Ep61bt26SkyBSCKGbQ0xYXeEay1evLj05IuYOCYQ4cPB+KhChQpUtWpVaYtFJkAqCKt74sQJCW1co0YNCZdsYrpDtogxjsUPQDYIsJ8lSxbZ33xx6A7RlhFs36SoxgxIDaSKVXcQMjlt2rTSb9asWc3uxO9DSkhlBPnHnZpWrVrp6iIWnfibCYiYOBqfzIgYRBhMGIBQ5RHDu0CBAhYlDHAlJgtHUDMgJlyskAkIZtu2bXLhehMTCAJliEfN73HJKh0ckYDw4bfiqVq1anKe+IWP8NixYwR5I7Y6tgcPHiwrfyA+NY4FH9bevXs9fFi+iCmqMYNxwyFyRMsuXLiwaFowRxELGyuIgLjw3xDkn9+ol7EH4kXc8oiIiKDiqp3/fxEIiJiw5AwHppLZFQNlzJgxMgO7l6rB31FiijuhgphgxnHcHiERY0K7iQlrAUI7MkSEs+PoD8TRHEQLglYEQsLKHhzaVU6eI0AIwWEpIg7RK3UgkSJFiggBlilTRlZk4ReE7Z/1RUxRjRmMH/jAdu3aJUH5sbpI/fr1ZfkjLFTBb+XLpActDgMVhNi1a1fiGNjE0SfscTUT/xAIiJjwxgo0IayIMnLkSDHhcFGYwWzgUWIySAT/1xATVkLhcK7ywc0HrD6DVVNw4eMDUuJ3rSh//vxyUrdv3xYiA/FgfUAQE8cAEhMPDTgWtZAW+pg+fbrUoQ+T1q5dK+Ng8uTJpoh8EVNUYwbExHGfCH2ZBDdB6dKlZXy1bNlSSBBkhQQTFGTKgdioRYsWZhf9jYcIBERM+P/wKS1dupQ4qBtxnCWZ7fjtdQ9olJg84AjqhpuYYPI0a9ZMjle2bFkhFpASCAkTCfxD5hEOo0VBKwERREVMQ4cOFTMLd1rdKV++fNS5c2db5IuYUOlvzPgiJvSHQYl98N+wmnCxYsXsMZCBdsixijzKdCN+IRAwMT169EgGRq5cucTPhEUvvZMSkzciwdt2ExOOgnX8oGkgZcqUSbQlrFHGgfUI68zBqY0EjQp+I9xFS5MmTZTEZDQxmFRmaXj4nbzvtvkjJn9jBsQEpzaHTJZzgkaElZ452qNMeu3atSM8J4VHUEzydVxTp7/xBwE3Mf0HAAD//ytdDesAAAZOSURBVO2cXUgUXRjHHys0CK2wqPBKIumibkqJjCi76MPSzKsipBTRC0E0IwoqoqwUTEHF0tTIUCvxJumDKJXqRknBRCRUEimo9MISVNKazvPw7rT7rjhOzg7O9h/Y3Tkfcz5+c/Z/zpl5zgnQ1EFux+TkpJvrz+mxY8eoq6uLzpw5QydPnvwT8N/Zvn37aP/+/ZSdne0VBg9rCURFRdHx48cpKytLT/jGjRtUVVVFa9asoZaWFvr58yclJCTIb05ODv369YuKioooODiY6urqaGRkhGJiYuj27du0Y8cOSaewsJBevHhBT548oQ8fPtDBgwdp165dlJaWRosXL6arV6/S0aNH6ciRI3q+xcXF9PDhQ3rz5o3u5zqZqc1cvnyZ7t+/T1euXKHNmzfTvXv3qLGxkZqammj9+vX06NEjOnv2LCUnJ0v5P378SHxNeXk5RUREuJLGrx8SWLp0qV6rgLkKEzfm3NxcevnyJa1bt05PwHUSGxtLe/fu9fizuMLway0BFqakpCTKzMzUE+YO5fDhw/Tjxw8RJg7gP/W5c+eoo6ND4u3cuZOuXbtGoaGh9OXLFxEmFrPt27dLuLswscfr16/p4sWLEpfdhw4dEpFwb0AlJSX04MGDGYVppjbDIvP8+XNavXo1vX//npOljIwM+fA595N37tyhgoICdtKyZcsoNTWV0tPTxY0v/yXg3q7mLEx5eXnU09MjPZz/ovHPmo2Pj8uIJygo6K8q+O3bNxGIJUuWmLp+pjbDwtTb20v19fX0/ft34sYYGBjolS6P8EZHR2nlypUUEBDgFQ4P/yNgSpi4121ubiZuZDdv3pShvf8hQY2sJDBbm3EXJivzRFrOJ2BKmPgZAM/veeqA4bTzb74dNZitzXDnNjg4SPn5+XYUBXk4iIApYXJQvVBUEAABBxOYVZgcXC8UHQRAwE8IeD389pN6oRogAAIOJmCJMH3+/Jn4zc2GDRto0aJFDsbhjKLzMxo22fjbt2zOqCVK+S8TmJcw8etcNvJ79eqVMGT7GDa+ZLsUHL4hwK/+N23aROfPn6eUlBTDTN69e0dTU1O0detWw7iIAAILhcC8hOnChQtUW1tLd+/eFSveiooKunXrltiobNu2baHU0e/K0dbWRhs3bqTly5cb1u3UqVNi5V1TU2MYFxFAYKEQMBSmyspKWrVqlSwP4EKzhXFpaSnt3r2bTp8+TdHR0WJNzGE8gtqyZYu4eekCDusJsGU0Lz/hJUC8pIOtqNlQkZei8HlYWBjFx8fT2rVriS25nz59ShMTE7KMhM09QkJCrC8UUgQBqwnwkpTZjkuXLmlq6qCp6YBEa21t1cLDw7Xu7m6vy9S0QcKUZa9XGDysITA9PS2MGxoaJEE1pRO3WlaiqXWMWmRkpHw43vXr17U9e/aIm89Vx2FNIZAKCPiYAK9NmvXo7OyUhq8WaUo8/iOohZ1e16iRlBYXF6cpQ0xNLSfwCoeHNQRmEibuOIaHhyWDt2/fyv1ydRxqUbXcE2tyRyogYA8BQ2FikWEhYkHiPwX3yGpFuUfp1Ep2TU3rJOzr168eYXBYS2AmYUpMTNQzUW9HRZjUFE78IEw6Gpw4iIChMHFdWIi4V25vb5dG39/f71FFtbxA/Hl0hcO3BCBMvuWL1BcGgTkJk9qbR4RHbWuiHThwwKPk1dXVEqZMBjz84fANAQiTb7gi1YVFYE7CxEXm6QI/9FZv6fQaPH78WPx4xKT21tE//x9R6RfgZN4EzAoT3xt+MN7X16e/wJh3IZAACPiYwJyFSdnBiAh9+vRJL9KJEyfEjwXL/cPTPhy+IWAkTMp0QO7Fs2fPpAD8EJyfC/L9GRgY8E2hkCoIWEzA0I7JZZ7Au1eqRi67Fbr88OsMArzN7tjYGK1YscIZBUYp/3kChsI0NDQk+0CzMPE2rLxPNA4QAAEQ8CUBQ2Hi/ZfLysqwBs6XdwFpgwAIeBAwFCaP2HCAAAiAgA0EIEw2QEYWIAAC5ghAmMzxQmwQAAEbCECYbICMLEAABMwRgDCZ44XYIAACNhCAMNkAGVmAAAiYIwBhMscLsUEABGwgAGGyATKyAAEQMEcAwmSOF2KDAAjYQADCZANkZAECIGCOAITJHC/EBgEQsIEAhMkGyMgCBEDAHIHfHzXHSJE2UYwAAAAASUVORK5CYII=)"
      ],
      "metadata": {
        "id": "NROOmnoG5WOX"
      }
    },
    {
      "cell_type": "markdown",
      "source": [
        "用 def 的方式畫 pyramid"
      ],
      "metadata": {
        "id": "fLQHcVmY9YB6"
      }
    },
    {
      "cell_type": "code",
      "source": [
        "def pyramid(h):\n",
        "  for n in range(h):\n",
        "    print((h-n)*' '+(2*n+1)*'*')"
      ],
      "metadata": {
        "id": "-tjn4JDn4XOZ"
      },
      "execution_count": 35,
      "outputs": []
    },
    {
      "cell_type": "code",
      "source": [
        "pyramid(3)"
      ],
      "metadata": {
        "colab": {
          "base_uri": "https://localhost:8080/"
        },
        "id": "iyuFB42P47oj",
        "outputId": "3e128c1f-c29a-4856-9018-f30bccea5243"
      },
      "execution_count": 36,
      "outputs": [
        {
          "output_type": "stream",
          "name": "stdout",
          "text": [
            "   *\n",
            "  ***\n",
            " *****\n"
          ]
        }
      ]
    },
    {
      "cell_type": "code",
      "source": [
        "pyramid(10)"
      ],
      "metadata": {
        "colab": {
          "base_uri": "https://localhost:8080/"
        },
        "id": "va1gHKXZ5BLm",
        "outputId": "daf98bfd-d84c-4833-9a77-4ee8e16ddccd"
      },
      "execution_count": 37,
      "outputs": [
        {
          "output_type": "stream",
          "name": "stdout",
          "text": [
            "          *\n",
            "         ***\n",
            "        *****\n",
            "       *******\n",
            "      *********\n",
            "     ***********\n",
            "    *************\n",
            "   ***************\n",
            "  *****************\n",
            " *******************\n"
          ]
        }
      ]
    }
  ]
}